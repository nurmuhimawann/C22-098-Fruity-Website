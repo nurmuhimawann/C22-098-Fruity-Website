{
  "nbformat": 4,
  "nbformat_minor": 0,
  "metadata": {
    "colab": {
      "provenance": [],
      "include_colab_link": true
    },
    "kernelspec": {
      "name": "python3",
      "display_name": "Python 3"
    },
    "language_info": {
      "name": "python"
    }
  },
  "cells": [
    {
      "cell_type": "markdown",
      "metadata": {
        "id": "view-in-github",
        "colab_type": "text"
      },
      "source": [
        "<a href=\"https://colab.research.google.com/github/nurmuhimawann/C22-098-Fruity-Website/blob/ml-development/notebook/itsfruity.ipynb\" target=\"_parent\"><img src=\"https://colab.research.google.com/assets/colab-badge.svg\" alt=\"Open In Colab\"/></a>"
      ]
    },
    {
      "cell_type": "markdown",
      "source": [
        "## **Tim Capstone C22-098**\n",
        "## **Proyek Capstone : Fruity (Fruit Quality Control): Sistem Klasifikasi Buah Berbasis Website sebagai Kontrol Kualitas Buah Segar**\n",
        "\n",
        "---"
      ],
      "metadata": {
        "id": "gUDHwQ3oNMII"
      }
    },
    {
      "cell_type": "markdown",
      "source": [
        "Link drive dataset:\n",
        "https://drive.google.com/drive/folders/1JlQCJ2ZJosZu9cWl3ESBzjbEJzjZ3Yi8?usp=sharing"
      ],
      "metadata": {
        "id": "jBkZyLpxl49z"
      }
    },
    {
      "cell_type": "markdown",
      "source": [
        "## Steps:"
      ],
      "metadata": {
        "id": "zmBhvV_ROPaS"
      }
    },
    {
      "cell_type": "markdown",
      "source": [
        "### 1. Melakukan mounting Google Drive untuk mengakses Dataset"
      ],
      "metadata": {
        "id": "ea-2nLMqM4TY"
      }
    },
    {
      "cell_type": "code",
      "execution_count": null,
      "metadata": {
        "colab": {
          "base_uri": "https://localhost:8080/"
        },
        "id": "4kiBySSKccso",
        "outputId": "20188ee6-6ea1-4d4f-e1ca-f391e22be16a"
      },
      "outputs": [
        {
          "output_type": "stream",
          "name": "stdout",
          "text": [
            "Mounted at /content/gdrive\n",
            "gdrive\tsample_data\n"
          ]
        }
      ],
      "source": [
        "from google.colab import drive\n",
        "drive.mount('/content/gdrive')\n",
        "!ls"
      ]
    },
    {
      "cell_type": "code",
      "source": [
        "%cd /content/gdrive/My Drive/DATASET/train\n",
        "!ls"
      ],
      "metadata": {
        "colab": {
          "base_uri": "https://localhost:8080/"
        },
        "id": "y9CaT5Weny3t",
        "outputId": "320a4a8c-4844-4fcc-b29e-4359a39a67f9"
      },
      "execution_count": null,
      "outputs": [
        {
          "output_type": "stream",
          "name": "stdout",
          "text": [
            "/content/gdrive/My Drive/DATASET/train\n",
            "freshapples  freshlemon    rottenapples  rottenlemon\n",
            "freshbanana  freshoranges  rottenbanana  rottenoranges\n"
          ]
        }
      ]
    },
    {
      "cell_type": "markdown",
      "source": [
        "### 2. Melihat isi direktori"
      ],
      "metadata": {
        "id": "BdiWoZXTPlUj"
      }
    },
    {
      "cell_type": "code",
      "source": [
        "import os\n",
        "labels = os.listdir('/content/gdrive/My Drive/DATASET/train')\n",
        "labels"
      ],
      "metadata": {
        "colab": {
          "base_uri": "https://localhost:8080/"
        },
        "id": "u2QFc4QynUuI",
        "outputId": "b0381d8b-5c66-49a6-9110-e386635d60c3"
      },
      "execution_count": null,
      "outputs": [
        {
          "output_type": "execute_result",
          "data": {
            "text/plain": [
              "['freshapples',\n",
              " 'freshbanana',\n",
              " 'freshoranges',\n",
              " 'rottenapples',\n",
              " 'rottenbanana',\n",
              " 'rottenoranges',\n",
              " 'freshlemon',\n",
              " 'rottenlemon']"
            ]
          },
          "metadata": {},
          "execution_count": 3
        }
      ]
    },
    {
      "cell_type": "code",
      "source": [
        "base_dir = os.path.join('/content/gdrive/My Drive/DATASET/train')\n",
        "labels = os.listdir(base_dir)\n",
        "\n",
        "label_and_items = {}\n",
        "\n",
        "for label in labels:\n",
        "  items = os.listdir(os.path.join(base_dir, label))\n",
        "  label_and_items[label] = len(items)\n",
        "\n",
        "label_and_items"
      ],
      "metadata": {
        "colab": {
          "base_uri": "https://localhost:8080/"
        },
        "id": "GyTK9t2dpHzn",
        "outputId": "cae2792f-7818-4a16-d50a-30376ec23cff"
      },
      "execution_count": null,
      "outputs": [
        {
          "output_type": "execute_result",
          "data": {
            "text/plain": [
              "{'freshapples': 1693,\n",
              " 'freshbanana': 1581,\n",
              " 'freshoranges': 1466,\n",
              " 'rottenapples': 2342,\n",
              " 'rottenbanana': 2224,\n",
              " 'rottenoranges': 1595,\n",
              " 'freshlemon': 1125,\n",
              " 'rottenlemon': 951}"
            ]
          },
          "metadata": {},
          "execution_count": 4
        }
      ]
    },
    {
      "cell_type": "markdown",
      "source": [
        "### 3. Menerapkan ImageDataGenerator\n",
        "\n",
        "*   import ImageDataGenerator\n",
        "*   melakukan augmentasi gambar pada setiap sampel di dataset\n",
        "*   melakukan pemisahan data menjadi data latih dan data validasi"
      ],
      "metadata": {
        "id": "WlFX3N8fPtxQ"
      }
    },
    {
      "cell_type": "code",
      "source": [
        "import tensorflow as tf\n",
        "from tensorflow import keras\n",
        "from keras.preprocessing.image import ImageDataGenerator\n",
        "\n",
        "train_datagen = ImageDataGenerator(rescale=1./255.0,\n",
        "                     rotation_range=20,\n",
        "                     shear_range=0.2,\n",
        "                     zoom_range=0.2,\n",
        "                     horizontal_flip=True,\n",
        "                     vertical_flip=True,\n",
        "                     fill_mode='nearest',\n",
        "                     validation_split=0.2)"
      ],
      "metadata": {
        "id": "J9oOU6K1v_iZ"
      },
      "execution_count": null,
      "outputs": []
    },
    {
      "cell_type": "markdown",
      "source": [
        "### 4. Menyiapkan data latih dan validasi dari kumpulan data gambar yang di-load dalam memori melalui fungsi flow()"
      ],
      "metadata": {
        "id": "8eq0hn8mQl6d"
      }
    },
    {
      "cell_type": "code",
      "source": [
        "train_generator = train_datagen.flow_from_directory(\n",
        "            base_dir,\n",
        "            target_size=(150, 150),\n",
        "            batch_size=32,\n",
        "            class_mode='categorical',\n",
        "            subset='training')\n",
        "    \n",
        "validation_generator = train_datagen.flow_from_directory(\n",
        "            base_dir,\n",
        "            target_size=(150, 150),\n",
        "            batch_size=32,\n",
        "            class_mode='categorical',\n",
        "            subset='validation')"
      ],
      "metadata": {
        "colab": {
          "base_uri": "https://localhost:8080/"
        },
        "id": "nxVlkfwMv_4i",
        "outputId": "d78fd3bb-887f-450d-dda5-f9b3496c1f63"
      },
      "execution_count": null,
      "outputs": [
        {
          "output_type": "stream",
          "name": "stdout",
          "text": [
            "Found 10384 images belonging to 8 classes.\n",
            "Found 2593 images belonging to 8 classes.\n"
          ]
        }
      ]
    },
    {
      "cell_type": "markdown",
      "source": [
        "### 5. Membangun model menggunakan model sequential"
      ],
      "metadata": {
        "id": "XqnpokqaQv0H"
      }
    },
    {
      "cell_type": "code",
      "source": [
        "model = keras.Sequential([\n",
        "    tf.keras.layers.Conv2D(16, (3, 3), activation='relu', input_shape=(150, 150, 3)),\n",
        "    tf.keras.layers.MaxPooling2D(2, 2),\n",
        "    tf.keras.layers.Conv2D(32, (3,3), activation='relu'),\n",
        "    tf.keras.layers.MaxPooling2D(2,2),\n",
        "    tf.keras.layers.Conv2D(64, (3,3), activation='relu'),\n",
        "    tf.keras.layers.MaxPooling2D(2,2),\n",
        "    tf.keras.layers.Flatten(),\n",
        "    tf.keras.layers.Dense(512, activation='relu'),\n",
        "    tf.keras.layers.Dense(len(labels), activation='softmax')\n",
        "])"
      ],
      "metadata": {
        "id": "b3FqtSeGwAZO"
      },
      "execution_count": null,
      "outputs": []
    },
    {
      "cell_type": "markdown",
      "source": [
        "### 6. Melihat summary dari arsitektur model yang telah kita buat"
      ],
      "metadata": {
        "id": "arZjGJvRQyE0"
      }
    },
    {
      "cell_type": "code",
      "source": [
        "model.summary()"
      ],
      "metadata": {
        "colab": {
          "base_uri": "https://localhost:8080/"
        },
        "id": "rW_Me_akxCdv",
        "outputId": "59414061-0603-469c-f167-3144155d8bb7"
      },
      "execution_count": null,
      "outputs": [
        {
          "output_type": "stream",
          "name": "stdout",
          "text": [
            "Model: \"sequential\"\n",
            "_________________________________________________________________\n",
            " Layer (type)                Output Shape              Param #   \n",
            "=================================================================\n",
            " conv2d (Conv2D)             (None, 148, 148, 16)      448       \n",
            "                                                                 \n",
            " max_pooling2d (MaxPooling2D  (None, 74, 74, 16)       0         \n",
            " )                                                               \n",
            "                                                                 \n",
            " conv2d_1 (Conv2D)           (None, 72, 72, 32)        4640      \n",
            "                                                                 \n",
            " max_pooling2d_1 (MaxPooling  (None, 36, 36, 32)       0         \n",
            " 2D)                                                             \n",
            "                                                                 \n",
            " conv2d_2 (Conv2D)           (None, 34, 34, 64)        18496     \n",
            "                                                                 \n",
            " max_pooling2d_2 (MaxPooling  (None, 17, 17, 64)       0         \n",
            " 2D)                                                             \n",
            "                                                                 \n",
            " flatten (Flatten)           (None, 18496)             0         \n",
            "                                                                 \n",
            " dense (Dense)               (None, 512)               9470464   \n",
            "                                                                 \n",
            " dense_1 (Dense)             (None, 8)                 4104      \n",
            "                                                                 \n",
            "=================================================================\n",
            "Total params: 9,498,152\n",
            "Trainable params: 9,498,152\n",
            "Non-trainable params: 0\n",
            "_________________________________________________________________\n"
          ]
        }
      ]
    },
    {
      "cell_type": "markdown",
      "source": [
        "### 7. Melakukan compile model dengan 'adam' optimizer loss function 'categorical_crossentropy'"
      ],
      "metadata": {
        "id": "Qlklk96dRGw2"
      }
    },
    {
      "cell_type": "code",
      "source": [
        "model.compile(loss='categorical_crossentropy',\n",
        "              optimizer=tf.optimizers.Adam(),\n",
        "              metrics=['accuracy'])"
      ],
      "metadata": {
        "id": "1iSJzCRgxEta"
      },
      "execution_count": null,
      "outputs": []
    },
    {
      "cell_type": "markdown",
      "source": [
        "### 8. Menerapkan Callback"
      ],
      "metadata": {
        "id": "nBJEv0qcRJW8"
      }
    },
    {
      "cell_type": "code",
      "source": [
        "class myCallback(tf.keras.callbacks.Callback):\n",
        "  def on_epoch_end(self, epoch, logs={}):\n",
        "    if logs.get('accuracy') >= 0.95 and logs.get('val_accuracy') >= 0.95:\n",
        "      print('STOP')\n",
        "      self.model.stop_training = True\n",
        "\n",
        "callbacks = myCallback()"
      ],
      "metadata": {
        "id": "rP-9SscAxOz-"
      },
      "execution_count": null,
      "outputs": []
    },
    {
      "cell_type": "markdown",
      "source": [
        "### 9. Melatih model dengan model.fit"
      ],
      "metadata": {
        "id": "-sNyUANuROPV"
      }
    },
    {
      "cell_type": "code",
      "source": [
        "history=model.fit(\n",
        "      train_generator,\n",
        "      steps_per_epoch=20,  #berapa batch yang akan dieksekusi pada setiap epoch\n",
        "      epochs=100, #tambahkan epochs jika akurasi model belum optimal\n",
        "      validation_data=validation_generator, #menampilkan akurasi pengujian data validasi\n",
        "      validation_steps=4,  #berapa batch yang akan dieksekusi pada setiap epoch\n",
        "      verbose=2,\n",
        "      callbacks=[callbacks])"
      ],
      "metadata": {
        "colab": {
          "base_uri": "https://localhost:8080/"
        },
        "id": "KNnbNkcQeONu",
        "outputId": "b00bd75a-3f4a-4d47-ab6e-505f415c1335"
      },
      "execution_count": null,
      "outputs": [
        {
          "output_type": "stream",
          "name": "stdout",
          "text": [
            "Epoch 1/100\n",
            "20/20 - 313s - loss: 1.3618 - accuracy: 0.4797 - val_loss: 1.0560 - val_accuracy: 0.6250 - 313s/epoch - 16s/step\n",
            "Epoch 2/100\n",
            "20/20 - 341s - loss: 1.0767 - accuracy: 0.6094 - val_loss: 1.0759 - val_accuracy: 0.5781 - 341s/epoch - 17s/step\n",
            "Epoch 3/100\n",
            "20/20 - 312s - loss: 0.7900 - accuracy: 0.7563 - val_loss: 0.7099 - val_accuracy: 0.7344 - 312s/epoch - 16s/step\n",
            "Epoch 4/100\n",
            "20/20 - 295s - loss: 0.7661 - accuracy: 0.7375 - val_loss: 0.6770 - val_accuracy: 0.7656 - 295s/epoch - 15s/step\n",
            "Epoch 5/100\n",
            "20/20 - 283s - loss: 0.7265 - accuracy: 0.7500 - val_loss: 0.5688 - val_accuracy: 0.8203 - 283s/epoch - 14s/step\n",
            "Epoch 6/100\n",
            "20/20 - 254s - loss: 0.5949 - accuracy: 0.7891 - val_loss: 0.5899 - val_accuracy: 0.7109 - 254s/epoch - 13s/step\n",
            "Epoch 7/100\n",
            "20/20 - 236s - loss: 0.5108 - accuracy: 0.8500 - val_loss: 0.4421 - val_accuracy: 0.8516 - 236s/epoch - 12s/step\n",
            "Epoch 8/100\n",
            "20/20 - 227s - loss: 0.5462 - accuracy: 0.8188 - val_loss: 0.4797 - val_accuracy: 0.8359 - 227s/epoch - 11s/step\n",
            "Epoch 9/100\n",
            "20/20 - 232s - loss: 0.4358 - accuracy: 0.8516 - val_loss: 0.3750 - val_accuracy: 0.8750 - 232s/epoch - 12s/step\n",
            "Epoch 10/100\n",
            "20/20 - 207s - loss: 0.4975 - accuracy: 0.8016 - val_loss: 0.5437 - val_accuracy: 0.8047 - 207s/epoch - 10s/step\n",
            "Epoch 11/100\n",
            "20/20 - 193s - loss: 0.4999 - accuracy: 0.8429 - val_loss: 0.4960 - val_accuracy: 0.7969 - 193s/epoch - 10s/step\n",
            "Epoch 12/100\n",
            "20/20 - 170s - loss: 0.4867 - accuracy: 0.8349 - val_loss: 0.3609 - val_accuracy: 0.8750 - 170s/epoch - 8s/step\n",
            "Epoch 13/100\n",
            "20/20 - 164s - loss: 0.4176 - accuracy: 0.8672 - val_loss: 0.3556 - val_accuracy: 0.8906 - 164s/epoch - 8s/step\n",
            "Epoch 14/100\n",
            "20/20 - 148s - loss: 0.3669 - accuracy: 0.8766 - val_loss: 0.4317 - val_accuracy: 0.8672 - 148s/epoch - 7s/step\n",
            "Epoch 15/100\n",
            "20/20 - 148s - loss: 0.3755 - accuracy: 0.8656 - val_loss: 0.3633 - val_accuracy: 0.8672 - 148s/epoch - 7s/step\n",
            "Epoch 16/100\n",
            "20/20 - 137s - loss: 0.3788 - accuracy: 0.8734 - val_loss: 0.2819 - val_accuracy: 0.8984 - 137s/epoch - 7s/step\n",
            "Epoch 17/100\n",
            "20/20 - 135s - loss: 0.3663 - accuracy: 0.8719 - val_loss: 0.3879 - val_accuracy: 0.8516 - 135s/epoch - 7s/step\n",
            "Epoch 18/100\n",
            "20/20 - 120s - loss: 0.3193 - accuracy: 0.8875 - val_loss: 0.4381 - val_accuracy: 0.8594 - 120s/epoch - 6s/step\n",
            "Epoch 19/100\n",
            "20/20 - 117s - loss: 0.3509 - accuracy: 0.8797 - val_loss: 0.3870 - val_accuracy: 0.8438 - 117s/epoch - 6s/step\n",
            "Epoch 20/100\n",
            "20/20 - 111s - loss: 0.3648 - accuracy: 0.8687 - val_loss: 0.3191 - val_accuracy: 0.8906 - 111s/epoch - 6s/step\n",
            "Epoch 21/100\n",
            "20/20 - 108s - loss: 0.3345 - accuracy: 0.8906 - val_loss: 0.3120 - val_accuracy: 0.8828 - 108s/epoch - 5s/step\n",
            "Epoch 22/100\n",
            "20/20 - 90s - loss: 0.3653 - accuracy: 0.8703 - val_loss: 0.3761 - val_accuracy: 0.8906 - 90s/epoch - 4s/step\n",
            "Epoch 23/100\n",
            "20/20 - 88s - loss: 0.3384 - accuracy: 0.8859 - val_loss: 0.3557 - val_accuracy: 0.8672 - 88s/epoch - 4s/step\n",
            "Epoch 24/100\n",
            "20/20 - 90s - loss: 0.3166 - accuracy: 0.8828 - val_loss: 0.3421 - val_accuracy: 0.8594 - 90s/epoch - 5s/step\n",
            "Epoch 25/100\n",
            "20/20 - 78s - loss: 0.3107 - accuracy: 0.8984 - val_loss: 0.2936 - val_accuracy: 0.9141 - 78s/epoch - 4s/step\n",
            "Epoch 26/100\n",
            "20/20 - 80s - loss: 0.2917 - accuracy: 0.8938 - val_loss: 0.2502 - val_accuracy: 0.9141 - 80s/epoch - 4s/step\n",
            "Epoch 27/100\n",
            "20/20 - 80s - loss: 0.2726 - accuracy: 0.9000 - val_loss: 0.2050 - val_accuracy: 0.9062 - 80s/epoch - 4s/step\n",
            "Epoch 28/100\n",
            "20/20 - 67s - loss: 0.2922 - accuracy: 0.8953 - val_loss: 0.1490 - val_accuracy: 0.9609 - 67s/epoch - 3s/step\n",
            "Epoch 29/100\n",
            "20/20 - 60s - loss: 0.2814 - accuracy: 0.8938 - val_loss: 0.2653 - val_accuracy: 0.9062 - 60s/epoch - 3s/step\n",
            "Epoch 30/100\n",
            "20/20 - 58s - loss: 0.2313 - accuracy: 0.9234 - val_loss: 0.2079 - val_accuracy: 0.9219 - 58s/epoch - 3s/step\n",
            "Epoch 31/100\n",
            "20/20 - 61s - loss: 0.2566 - accuracy: 0.9000 - val_loss: 0.1896 - val_accuracy: 0.9453 - 61s/epoch - 3s/step\n",
            "Epoch 32/100\n",
            "20/20 - 52s - loss: 0.2255 - accuracy: 0.9203 - val_loss: 0.3134 - val_accuracy: 0.9141 - 52s/epoch - 3s/step\n",
            "Epoch 33/100\n",
            "20/20 - 59s - loss: 0.1982 - accuracy: 0.9266 - val_loss: 0.1854 - val_accuracy: 0.9062 - 59s/epoch - 3s/step\n",
            "Epoch 34/100\n",
            "20/20 - 52s - loss: 0.1916 - accuracy: 0.9266 - val_loss: 0.2529 - val_accuracy: 0.9141 - 52s/epoch - 3s/step\n",
            "Epoch 35/100\n",
            "20/20 - 56s - loss: 0.3343 - accuracy: 0.8798 - val_loss: 0.5080 - val_accuracy: 0.8750 - 56s/epoch - 3s/step\n",
            "Epoch 36/100\n",
            "20/20 - 46s - loss: 0.2887 - accuracy: 0.8875 - val_loss: 0.2718 - val_accuracy: 0.8984 - 46s/epoch - 2s/step\n",
            "Epoch 37/100\n",
            "20/20 - 54s - loss: 0.2591 - accuracy: 0.9094 - val_loss: 0.3123 - val_accuracy: 0.8906 - 54s/epoch - 3s/step\n",
            "Epoch 38/100\n",
            "20/20 - 48s - loss: 0.2828 - accuracy: 0.8813 - val_loss: 0.2086 - val_accuracy: 0.9219 - 48s/epoch - 2s/step\n",
            "Epoch 39/100\n",
            "20/20 - 41s - loss: 0.3006 - accuracy: 0.8906 - val_loss: 0.3218 - val_accuracy: 0.8672 - 41s/epoch - 2s/step\n",
            "Epoch 40/100\n",
            "20/20 - 39s - loss: 0.2107 - accuracy: 0.9203 - val_loss: 0.2477 - val_accuracy: 0.8906 - 39s/epoch - 2s/step\n",
            "Epoch 41/100\n",
            "20/20 - 42s - loss: 0.2086 - accuracy: 0.9203 - val_loss: 0.3125 - val_accuracy: 0.9141 - 42s/epoch - 2s/step\n",
            "Epoch 42/100\n",
            "20/20 - 35s - loss: 0.2548 - accuracy: 0.9078 - val_loss: 0.2367 - val_accuracy: 0.9297 - 35s/epoch - 2s/step\n",
            "Epoch 43/100\n",
            "20/20 - 37s - loss: 0.2643 - accuracy: 0.8984 - val_loss: 0.2188 - val_accuracy: 0.9297 - 37s/epoch - 2s/step\n",
            "Epoch 44/100\n",
            "20/20 - 36s - loss: 0.2467 - accuracy: 0.9031 - val_loss: 0.1989 - val_accuracy: 0.9375 - 36s/epoch - 2s/step\n",
            "Epoch 45/100\n",
            "20/20 - 39s - loss: 0.2696 - accuracy: 0.8984 - val_loss: 0.1669 - val_accuracy: 0.9531 - 39s/epoch - 2s/step\n",
            "Epoch 46/100\n",
            "20/20 - 32s - loss: 0.2254 - accuracy: 0.9297 - val_loss: 0.1967 - val_accuracy: 0.9531 - 32s/epoch - 2s/step\n",
            "Epoch 47/100\n",
            "20/20 - 38s - loss: 0.1969 - accuracy: 0.9422 - val_loss: 0.1675 - val_accuracy: 0.9453 - 38s/epoch - 2s/step\n",
            "Epoch 48/100\n",
            "20/20 - 33s - loss: 0.2798 - accuracy: 0.8942 - val_loss: 0.1185 - val_accuracy: 0.9609 - 33s/epoch - 2s/step\n",
            "Epoch 49/100\n",
            "20/20 - 32s - loss: 0.1876 - accuracy: 0.9328 - val_loss: 0.0902 - val_accuracy: 0.9766 - 32s/epoch - 2s/step\n",
            "Epoch 50/100\n",
            "20/20 - 32s - loss: 0.2027 - accuracy: 0.9297 - val_loss: 0.1132 - val_accuracy: 0.9453 - 32s/epoch - 2s/step\n",
            "Epoch 51/100\n",
            "20/20 - 32s - loss: 0.1683 - accuracy: 0.9375 - val_loss: 0.1230 - val_accuracy: 0.9531 - 32s/epoch - 2s/step\n",
            "Epoch 52/100\n",
            "20/20 - 31s - loss: 0.2084 - accuracy: 0.9187 - val_loss: 0.2142 - val_accuracy: 0.9141 - 31s/epoch - 2s/step\n",
            "Epoch 53/100\n",
            "20/20 - 28s - loss: 0.1910 - accuracy: 0.9391 - val_loss: 0.2087 - val_accuracy: 0.9297 - 28s/epoch - 1s/step\n",
            "Epoch 54/100\n",
            "20/20 - 32s - loss: 0.1693 - accuracy: 0.9438 - val_loss: 0.1691 - val_accuracy: 0.9453 - 32s/epoch - 2s/step\n",
            "Epoch 55/100\n",
            "20/20 - 29s - loss: 0.1955 - accuracy: 0.9172 - val_loss: 0.0827 - val_accuracy: 0.9688 - 29s/epoch - 1s/step\n",
            "Epoch 56/100\n",
            "20/20 - 30s - loss: 0.1873 - accuracy: 0.9266 - val_loss: 0.1375 - val_accuracy: 0.9688 - 30s/epoch - 1s/step\n",
            "Epoch 57/100\n",
            "20/20 - 27s - loss: 0.2066 - accuracy: 0.9250 - val_loss: 0.1846 - val_accuracy: 0.9531 - 27s/epoch - 1s/step\n",
            "Epoch 58/100\n",
            "20/20 - 27s - loss: 0.1749 - accuracy: 0.9344 - val_loss: 0.1614 - val_accuracy: 0.9297 - 27s/epoch - 1s/step\n",
            "Epoch 59/100\n",
            "20/20 - 27s - loss: 0.1748 - accuracy: 0.9312 - val_loss: 0.1447 - val_accuracy: 0.9375 - 27s/epoch - 1s/step\n",
            "Epoch 60/100\n",
            "20/20 - 27s - loss: 0.2258 - accuracy: 0.9141 - val_loss: 0.3094 - val_accuracy: 0.8906 - 27s/epoch - 1s/step\n",
            "Epoch 61/100\n",
            "20/20 - 24s - loss: 0.1821 - accuracy: 0.9359 - val_loss: 0.3191 - val_accuracy: 0.8828 - 24s/epoch - 1s/step\n",
            "Epoch 62/100\n",
            "20/20 - 26s - loss: 0.2144 - accuracy: 0.9187 - val_loss: 0.1376 - val_accuracy: 0.9609 - 26s/epoch - 1s/step\n",
            "Epoch 63/100\n",
            "20/20 - 24s - loss: 0.1936 - accuracy: 0.9266 - val_loss: 0.2627 - val_accuracy: 0.9375 - 24s/epoch - 1s/step\n",
            "Epoch 64/100\n",
            "20/20 - 29s - loss: 0.2556 - accuracy: 0.8938 - val_loss: 0.1916 - val_accuracy: 0.9297 - 29s/epoch - 1s/step\n",
            "Epoch 65/100\n",
            "20/20 - 27s - loss: 0.1853 - accuracy: 0.9266 - val_loss: 0.3423 - val_accuracy: 0.8750 - 27s/epoch - 1s/step\n",
            "Epoch 66/100\n",
            "20/20 - 26s - loss: 0.1636 - accuracy: 0.9422 - val_loss: 0.2528 - val_accuracy: 0.9219 - 26s/epoch - 1s/step\n",
            "Epoch 67/100\n",
            "20/20 - 28s - loss: 0.1730 - accuracy: 0.9453 - val_loss: 0.1783 - val_accuracy: 0.9219 - 28s/epoch - 1s/step\n",
            "Epoch 68/100\n",
            "20/20 - 25s - loss: 0.1869 - accuracy: 0.9344 - val_loss: 0.2550 - val_accuracy: 0.9062 - 25s/epoch - 1s/step\n",
            "Epoch 69/100\n",
            "20/20 - 27s - loss: 0.2056 - accuracy: 0.9250 - val_loss: 0.2232 - val_accuracy: 0.9141 - 27s/epoch - 1s/step\n",
            "Epoch 70/100\n",
            "20/20 - 25s - loss: 0.1308 - accuracy: 0.9484 - val_loss: 0.1066 - val_accuracy: 0.9531 - 25s/epoch - 1s/step\n",
            "Epoch 71/100\n",
            "20/20 - 25s - loss: 0.1789 - accuracy: 0.9359 - val_loss: 0.2264 - val_accuracy: 0.9219 - 25s/epoch - 1s/step\n",
            "Epoch 72/100\n",
            "20/20 - 25s - loss: 0.2102 - accuracy: 0.9203 - val_loss: 0.2066 - val_accuracy: 0.8906 - 25s/epoch - 1s/step\n",
            "Epoch 73/100\n",
            "20/20 - 25s - loss: 0.2301 - accuracy: 0.9156 - val_loss: 0.1451 - val_accuracy: 0.9297 - 25s/epoch - 1s/step\n",
            "Epoch 74/100\n",
            "20/20 - 24s - loss: 0.1984 - accuracy: 0.9247 - val_loss: 0.1837 - val_accuracy: 0.9375 - 24s/epoch - 1s/step\n",
            "Epoch 75/100\n",
            "20/20 - 23s - loss: 0.1493 - accuracy: 0.9422 - val_loss: 0.0916 - val_accuracy: 0.9688 - 23s/epoch - 1s/step\n",
            "Epoch 76/100\n",
            "20/20 - 23s - loss: 0.1222 - accuracy: 0.9578 - val_loss: 0.1294 - val_accuracy: 0.9375 - 23s/epoch - 1s/step\n",
            "Epoch 77/100\n",
            "20/20 - 23s - loss: 0.1078 - accuracy: 0.9641 - val_loss: 0.2264 - val_accuracy: 0.9141 - 23s/epoch - 1s/step\n",
            "Epoch 78/100\n",
            "20/20 - 23s - loss: 0.1689 - accuracy: 0.9422 - val_loss: 0.0985 - val_accuracy: 0.9453 - 23s/epoch - 1s/step\n",
            "Epoch 79/100\n",
            "STOP\n",
            "20/20 - 23s - loss: 0.1103 - accuracy: 0.9547 - val_loss: 0.1193 - val_accuracy: 0.9609 - 23s/epoch - 1s/step\n"
          ]
        }
      ]
    },
    {
      "cell_type": "markdown",
      "source": [
        "### 10. Melihat nilai akurasi dan loss"
      ],
      "metadata": {
        "id": "xe-gzRaDRmCa"
      }
    },
    {
      "cell_type": "code",
      "source": [
        "import matplotlib.pyplot as plt    \n",
        "\n",
        "acc = history.history['accuracy']                                                \n",
        "val_acc = history.history['val_accuracy']                                         \n",
        "loss = history.history['loss']                                                    \n",
        "val_loss = history.history['val_loss']                                            \n",
        "\n",
        "epochs = range(len(acc))                                                          \n",
        "\n",
        "plt.plot(acc, 'b', label='Accuracy')                                                 \n",
        "plt.plot(val_acc, 'r', label='Val_accuracy')                          \n",
        "plt.title('Accuracy & Val_accuracy')\n",
        "plt.ylabel('Accuracy in decimal')\n",
        "plt.xlabel('Epochs')                                      \n",
        "plt.legend(loc=0)                                                                 \n",
        "plt.figure()                                                                      \n",
        "plt.show()\n",
        "\n",
        "plt.plot(loss, 'b', label='Training loss')\n",
        "plt.plot(val_loss, 'r', label='Val_loss')\n",
        "plt.title('Loss & Val_Loss')\n",
        "plt.ylabel('Loss in decimal')\n",
        "plt.xlabel('Epochs')  \n",
        "plt.legend(loc=0)\n",
        "plt.figure()\n",
        "plt.show()"
      ],
      "metadata": {
        "colab": {
          "base_uri": "https://localhost:8080/",
          "height": 608
        },
        "id": "gS8hAa5m6iFs",
        "outputId": "99c0f9a3-9dac-4cfe-d41a-e27e4b59790d"
      },
      "execution_count": null,
      "outputs": [
        {
          "output_type": "display_data",
          "data": {
            "text/plain": [
              "<Figure size 432x288 with 1 Axes>"
            ],
            "image/png": "[encoded data removed]"
          },
          "metadata": {
            "needs_background": "light"
          }
        },
        {
          "output_type": "display_data",
          "data": {
            "text/plain": [
              "<Figure size 432x288 with 0 Axes>"
            ]
          },
          "metadata": {}
        },
        {
          "output_type": "display_data",
          "data": {
            "text/plain": [
              "<Figure size 432x288 with 1 Axes>"
            ],
            "image/png": "[encoded data removed]"
          },
          "metadata": {
            "needs_background": "light"
          }
        },
        {
          "output_type": "display_data",
          "data": {
            "text/plain": [
              "<Figure size 432x288 with 0 Axes>"
            ]
          },
          "metadata": {}
        }
      ]
    },
    {
      "cell_type": "code",
      "source": [
        "print(train_generator.class_indices)"
      ],
      "metadata": {
        "colab": {
          "base_uri": "https://localhost:8080/"
        },
        "id": "GjZXKtmAOyyS",
        "outputId": "8b23d496-8284-4218-81fb-4b25b59b3df8"
      },
      "execution_count": null,
      "outputs": [
        {
          "output_type": "stream",
          "name": "stdout",
          "text": [
            "{'freshapples': 0, 'freshbanana': 1, 'freshlemon': 2, 'freshoranges': 3, 'rottenapples': 4, 'rottenbanana': 5, 'rottenlemon': 6, 'rottenoranges': 7}\n"
          ]
        }
      ]
    },
    {
      "cell_type": "markdown",
      "source": [
        "### 11. Uji coba model dengan mengupload gambar"
      ],
      "metadata": {
        "id": "Wobu_4RORtuU"
      }
    },
    {
      "cell_type": "code",
      "source": [
        "import numpy as np\n",
        "from google.colab import files\n",
        "import tensorflow\n",
        "# from keras.preprocessing import image # this is deprecated, jadi ngga usah digunain lagi\n",
        "from tensorflow.keras.utils import load_img, img_to_array\n",
        "\n",
        "uploaded = files.upload()\n",
        "\n",
        "for fn in uploaded.keys():\n",
        " \n",
        "  # predicting images\n",
        "  path = fn\n",
        "  img = load_img(path, target_size=(150, 150))\n",
        "  x = img_to_array(img)\n",
        "  x = np.expand_dims(x, axis=0)\n",
        "\n",
        "  images = np.vstack([x])\n",
        "  classes = model.predict(images, batch_size=10)\n",
        "  if classes[0][0]==1:\n",
        "    clas='fresh apple'\n",
        "  elif classes[0][1]==1:\n",
        "    clas='fresh banana'\n",
        "  elif classes[0][2]==1:\n",
        "    clas='fresh lemons'\n",
        "  elif classes[0][3]==1:\n",
        "    clas='fresh oranges'\n",
        "  elif classes[0][4]==1:\n",
        "    clas='rotten apples'\n",
        "  elif classes[0][5]==1:\n",
        "    clas='rotten banana'\n",
        "  elif classes[0][6]==1:\n",
        "    clas='rotten lemons'\n",
        "  elif classes[0][7]==1:\n",
        "    clas='rotten oranges'\n",
        "print('{} is a {}'.format(fn,clas))"
      ],
      "metadata": {
        "colab": {
          "base_uri": "https://localhost:8080/",
          "height": 107
        },
        "id": "Nz2s-29d700z",
        "outputId": "7214e196-f8c3-4ba0-e071-ed30e052ae8f"
      },
      "execution_count": null,
      "outputs": [
        {
          "output_type": "display_data",
          "data": {
            "text/plain": [
              "<IPython.core.display.HTML object>"
            ],
            "text/html": [
              "\n",
              "     <input type=\"file\" id=\"files-dc659c1e-299b-41cf-8089-dd6b4e189c65\" name=\"files[]\" multiple disabled\n",
              "        style=\"border:none\" />\n",
              "     <output id=\"result-dc659c1e-299b-41cf-8089-dd6b4e189c65\">\n",
              "      Upload widget is only available when the cell has been executed in the\n",
              "      current browser session. Please rerun this cell to enable.\n",
              "      </output>\n",
              "      <script>// Copyright 2017 Google LLC\n",
              "//\n",
              "// Licensed under the Apache License, Version 2.0 (the \"License\");\n",
              "// you may not use this file except in compliance with the License.\n",
              "// You may obtain a copy of the License at\n",
              "//\n",
              "//      http://www.apache.org/licenses/LICENSE-2.0\n",
              "//\n",
              "// Unless required by applicable law or agreed to in writing, software\n",
              "// distributed under the License is distributed on an \"AS IS\" BASIS,\n",
              "// WITHOUT WARRANTIES OR CONDITIONS OF ANY KIND, either express or implied.\n",
              "// See the License for the specific language governing permissions and\n",
              "// limitations under the License.\n",
              "\n",
              "/**\n",
              " * @fileoverview Helpers for google.colab Python module.\n",
              " */\n",
              "(function(scope) {\n",
              "function span(text, styleAttributes = {}) {\n",
              "  const element = document.createElement('span');\n",
              "  element.textContent = text;\n",
              "  for (const key of Object.keys(styleAttributes)) {\n",
              "    element.style[key] = styleAttributes[key];\n",
              "  }\n",
              "  return element;\n",
              "}\n",
              "\n",
              "// Max number of bytes which will be uploaded at a time.\n",
              "const MAX_PAYLOAD_SIZE = 100 * 1024;\n",
              "\n",
              "function _uploadFiles(inputId, outputId) {\n",
              "  const steps = uploadFilesStep(inputId, outputId);\n",
              "  const outputElement = document.getElementById(outputId);\n",
              "  // Cache steps on the outputElement to make it available for the next call\n",
              "  // to uploadFilesContinue from Python.\n",
              "  outputElement.steps = steps;\n",
              "\n",
              "  return _uploadFilesContinue(outputId);\n",
              "}\n",
              "\n",
              "// This is roughly an async generator (not supported in the browser yet),\n",
              "// where there are multiple asynchronous steps and the Python side is going\n",
              "// to poll for completion of each step.\n",
              "// This uses a Promise to block the python side on completion of each step,\n",
              "// then passes the result of the previous step as the input to the next step.\n",
              "function _uploadFilesContinue(outputId) {\n",
              "  const outputElement = document.getElementById(outputId);\n",
              "  const steps = outputElement.steps;\n",
              "\n",
              "  const next = steps.next(outputElement.lastPromiseValue);\n",
              "  return Promise.resolve(next.value.promise).then((value) => {\n",
              "    // Cache the last promise value to make it available to the next\n",
              "    // step of the generator.\n",
              "    outputElement.lastPromiseValue = value;\n",
              "    return next.value.response;\n",
              "  });\n",
              "}\n",
              "\n",
              "/**\n",
              " * Generator function which is called between each async step of the upload\n",
              " * process.\n",
              " * @param {string} inputId Element ID of the input file picker element.\n",
              " * @param {string} outputId Element ID of the output display.\n",
              " * @return {!Iterable<!Object>} Iterable of next steps.\n",
              " */\n",
              "function* uploadFilesStep(inputId, outputId) {\n",
              "  const inputElement = document.getElementById(inputId);\n",
              "  inputElement.disabled = false;\n",
              "\n",
              "  const outputElement = document.getElementById(outputId);\n",
              "  outputElement.innerHTML = '';\n",
              "\n",
              "  const pickedPromise = new Promise((resolve) => {\n",
              "    inputElement.addEventListener('change', (e) => {\n",
              "      resolve(e.target.files);\n",
              "    });\n",
              "  });\n",
              "\n",
              "  const cancel = document.createElement('button');\n",
              "  inputElement.parentElement.appendChild(cancel);\n",
              "  cancel.textContent = 'Cancel upload';\n",
              "  const cancelPromise = new Promise((resolve) => {\n",
              "    cancel.onclick = () => {\n",
              "      resolve(null);\n",
              "    };\n",
              "  });\n",
              "\n",
              "  // Wait for the user to pick the files.\n",
              "  const files = yield {\n",
              "    promise: Promise.race([pickedPromise, cancelPromise]),\n",
              "    response: {\n",
              "      action: 'starting',\n",
              "    }\n",
              "  };\n",
              "\n",
              "  cancel.remove();\n",
              "\n",
              "  // Disable the input element since further picks are not allowed.\n",
              "  inputElement.disabled = true;\n",
              "\n",
              "  if (!files) {\n",
              "    return {\n",
              "      response: {\n",
              "        action: 'complete',\n",
              "      }\n",
              "    };\n",
              "  }\n",
              "\n",
              "  for (const file of files) {\n",
              "    const li = document.createElement('li');\n",
              "    li.append(span(file.name, {fontWeight: 'bold'}));\n",
              "    li.append(span(\n",
              "        `(${file.type || 'n/a'}) - ${file.size} bytes, ` +\n",
              "        `last modified: ${\n",
              "            file.lastModifiedDate ? file.lastModifiedDate.toLocaleDateString() :\n",
              "                                    'n/a'} - `));\n",
              "    const percent = span('0% done');\n",
              "    li.appendChild(percent);\n",
              "\n",
              "    outputElement.appendChild(li);\n",
              "\n",
              "    const fileDataPromise = new Promise((resolve) => {\n",
              "      const reader = new FileReader();\n",
              "      reader.onload = (e) => {\n",
              "        resolve(e.target.result);\n",
              "      };\n",
              "      reader.readAsArrayBuffer(file);\n",
              "    });\n",
              "    // Wait for the data to be ready.\n",
              "    let fileData = yield {\n",
              "      promise: fileDataPromise,\n",
              "      response: {\n",
              "        action: 'continue',\n",
              "      }\n",
              "    };\n",
              "\n",
              "    // Use a chunked sending to avoid message size limits. See b/62115660.\n",
              "    let position = 0;\n",
              "    do {\n",
              "      const length = Math.min(fileData.byteLength - position, MAX_PAYLOAD_SIZE);\n",
              "      const chunk = new Uint8Array(fileData, position, length);\n",
              "      position += length;\n",
              "\n",
              "      const base64 = btoa(String.fromCharCode.apply(null, chunk));\n",
              "      yield {\n",
              "        response: {\n",
              "          action: 'append',\n",
              "          file: file.name,\n",
              "          data: base64,\n",
              "        },\n",
              "      };\n",
              "\n",
              "      let percentDone = fileData.byteLength === 0 ?\n",
              "          100 :\n",
              "          Math.round((position / fileData.byteLength) * 100);\n",
              "      percent.textContent = `${percentDone}% done`;\n",
              "\n",
              "    } while (position < fileData.byteLength);\n",
              "  }\n",
              "\n",
              "  // All done.\n",
              "  yield {\n",
              "    response: {\n",
              "      action: 'complete',\n",
              "    }\n",
              "  };\n",
              "}\n",
              "\n",
              "scope.google = scope.google || {};\n",
              "scope.google.colab = scope.google.colab || {};\n",
              "scope.google.colab._files = {\n",
              "  _uploadFiles,\n",
              "  _uploadFilesContinue,\n",
              "};\n",
              "})(self);\n",
              "</script> "
            ]
          },
          "metadata": {}
        },
        {
          "output_type": "stream",
          "name": "stdout",
          "text": [
            "Saving rotated_by_15_Screen Shot 2018-06-12 at 11.51.47 PM.png to rotated_by_15_Screen Shot 2018-06-12 at 11.51.47 PM (1).png\n",
            "1/1 [==============================] - 0s 29ms/step\n",
            "rotated_by_15_Screen Shot 2018-06-12 at 11.51.47 PM.png is a fresh oranges\n"
          ]
        }
      ]
    },
    {
      "cell_type": "markdown",
      "source": [
        "### 12. Menyimpan model dalam format .tflite"
      ],
      "metadata": {
        "id": "UyyE-A4OR0w0"
      }
    },
    {
      "cell_type": "code",
      "source": [
        "converter = tf.lite.TFLiteConverter.from_keras_model(model)\n",
        "tflite_model = converter.convert()"
      ],
      "metadata": {
        "colab": {
          "base_uri": "https://localhost:8080/"
        },
        "id": "bvEKRgH2-XIW",
        "outputId": "31cc1ab4-335b-4f45-a4b5-3ed66fad222a"
      },
      "execution_count": null,
      "outputs": [
        {
          "output_type": "stream",
          "name": "stderr",
          "text": [
            "WARNING:absl:Found untraced functions such as _jit_compiled_convolution_op, _jit_compiled_convolution_op, _jit_compiled_convolution_op while saving (showing 3 of 3). These functions will not be directly callable after loading.\n"
          ]
        }
      ]
    },
    {
      "cell_type": "code",
      "source": [
        "with tf.io.gfile.GFile(\"model.tflite\", \"wb\") as f:\n",
        "  f.write(tflite_model)"
      ],
      "metadata": {
        "id": "t6jm-RJY-Xfz"
      },
      "execution_count": null,
      "outputs": []
    }
  ]
}