{
  "nbformat": 4,
  "nbformat_minor": 0,
  "metadata": {
    "colab": {
      "provenance": [],
      "collapsed_sections": []
    },
    "kernelspec": {
      "name": "python3",
      "display_name": "Python 3"
    },
    "language_info": {
      "name": "python"
    }
  },
  "cells": [
    {
      "cell_type": "markdown",
      "source": [
        "Link drive dataset:\n",
        "https://drive.google.com/drive/folders/1JlQCJ2ZJosZu9cWl3ESBzjbEJzjZ3Yi8?usp=sharing"
      ],
      "metadata": {
        "id": "jBkZyLpxl49z"
      }
    },
    {
      "cell_type": "code",
      "execution_count": 1,
      "metadata": {
        "colab": {
          "base_uri": "https://localhost:8080/"
        },
        "id": "4kiBySSKccso",
        "outputId": "822ccf0a-38b5-4fd4-b9fe-32cd5c4bccab"
      },
      "outputs": [
        {
          "output_type": "stream",
          "name": "stdout",
          "text": [
            "Mounted at /content/gdrive\n",
            "gdrive\tsample_data\n"
          ]
        }
      ],
      "source": [
        "from google.colab import drive\n",
        "drive.mount('/content/gdrive')\n",
        "!ls"
      ]
    },
    {
      "cell_type": "code",
      "source": [
        "%cd /content/gdrive/My Drive/DATASET/train\n",
        "!ls"
      ],
      "metadata": {
        "colab": {
          "base_uri": "https://localhost:8080/"
        },
        "id": "y9CaT5Weny3t",
        "outputId": "081d847a-db9f-435d-fb96-ca8f8fd46ca5"
      },
      "execution_count": 2,
      "outputs": [
        {
          "output_type": "stream",
          "name": "stdout",
          "text": [
            "/content/gdrive/My Drive/DATASET/train\n",
            "freshapples  freshlemon    rottenapples  rottenlemon\n",
            "freshbanana  freshoranges  rottenbanana  rottenoranges\n"
          ]
        }
      ]
    },
    {
      "cell_type": "code",
      "source": [
        "import os\n",
        "labels = os.listdir('/content/gdrive/My Drive/DATASET/train')\n",
        "labels"
      ],
      "metadata": {
        "colab": {
          "base_uri": "https://localhost:8080/"
        },
        "id": "u2QFc4QynUuI",
        "outputId": "946e5c2b-7e63-4eee-de6c-4fee44e19fc5"
      },
      "execution_count": 3,
      "outputs": [
        {
          "output_type": "execute_result",
          "data": {
            "text/plain": [
              "['freshapples',\n",
              " 'freshbanana',\n",
              " 'freshoranges',\n",
              " 'rottenapples',\n",
              " 'rottenbanana',\n",
              " 'rottenoranges',\n",
              " 'freshlemon',\n",
              " 'rottenlemon']"
            ]
          },
          "metadata": {},
          "execution_count": 3
        }
      ]
    },
    {
      "cell_type": "code",
      "source": [
        "base_dir = os.path.join('/content/gdrive/My Drive/DATASET/train')\n",
        "labels = os.listdir(base_dir)\n",
        "\n",
        "label_and_items = {}\n",
        "\n",
        "for label in labels:\n",
        "  items = os.listdir(os.path.join(base_dir, label))\n",
        "  label_and_items[label] = len(items)\n",
        "\n",
        "label_and_items"
      ],
      "metadata": {
        "colab": {
          "base_uri": "https://localhost:8080/"
        },
        "id": "GyTK9t2dpHzn",
        "outputId": "11c1e339-0428-425f-e37d-29ad1d71e82f"
      },
      "execution_count": 4,
      "outputs": [
        {
          "output_type": "execute_result",
          "data": {
            "text/plain": [
              "{'freshapples': 1693,\n",
              " 'freshbanana': 1581,\n",
              " 'freshoranges': 1466,\n",
              " 'rottenapples': 2342,\n",
              " 'rottenbanana': 2224,\n",
              " 'rottenoranges': 1595,\n",
              " 'freshlemon': 1125,\n",
              " 'rottenlemon': 951}"
            ]
          },
          "metadata": {},
          "execution_count": 4
        }
      ]
    },
    {
      "cell_type": "code",
      "source": [
        "import tensorflow as tf\n",
        "from tensorflow import keras\n",
        "from keras.preprocessing.image import ImageDataGenerator\n",
        "\n",
        "train_datagen = ImageDataGenerator(rescale=1./255.0,\n",
        "                     rotation_range=20,\n",
        "                     shear_range=0.2,\n",
        "                     zoom_range=0.2,\n",
        "                     horizontal_flip=True,\n",
        "                     vertical_flip=True,\n",
        "                     fill_mode='nearest',\n",
        "                     validation_split=0.2)"
      ],
      "metadata": {
        "id": "J9oOU6K1v_iZ"
      },
      "execution_count": 5,
      "outputs": []
    },
    {
      "cell_type": "code",
      "source": [
        "train_generator = train_datagen.flow_from_directory(\n",
        "            base_dir,\n",
        "            target_size=(150, 150),\n",
        "            batch_size=32,\n",
        "            class_mode='categorical',\n",
        "            subset='training')\n",
        "    \n",
        "validation_generator = train_datagen.flow_from_directory(\n",
        "            base_dir,\n",
        "            target_size=(150, 150),\n",
        "            batch_size=32,\n",
        "            class_mode='categorical',\n",
        "            subset='validation')"
      ],
      "metadata": {
        "colab": {
          "base_uri": "https://localhost:8080/"
        },
        "id": "nxVlkfwMv_4i",
        "outputId": "e2b2d27e-3100-45fc-a00a-02bd130cfdf8"
      },
      "execution_count": 6,
      "outputs": [
        {
          "output_type": "stream",
          "name": "stdout",
          "text": [
            "Found 10384 images belonging to 8 classes.\n",
            "Found 2593 images belonging to 8 classes.\n"
          ]
        }
      ]
    },
    {
      "cell_type": "code",
      "source": [
        "model = keras.Sequential([\n",
        "    tf.keras.layers.Conv2D(16, (3, 3), activation='relu', input_shape=(150, 150, 3)),\n",
        "    tf.keras.layers.MaxPooling2D(2, 2),\n",
        "    tf.keras.layers.Conv2D(32, (3,3), activation='relu'),\n",
        "    tf.keras.layers.MaxPooling2D(2,2),\n",
        "    tf.keras.layers.Conv2D(64, (3,3), activation='relu'),\n",
        "    tf.keras.layers.MaxPooling2D(2,2),\n",
        "    tf.keras.layers.Flatten(),\n",
        "    tf.keras.layers.Dense(512, activation='relu'),\n",
        "    tf.keras.layers.Dense(len(labels), activation='softmax')\n",
        "])"
      ],
      "metadata": {
        "id": "b3FqtSeGwAZO"
      },
      "execution_count": 7,
      "outputs": []
    },
    {
      "cell_type": "code",
      "source": [
        "model.summary()"
      ],
      "metadata": {
        "colab": {
          "base_uri": "https://localhost:8080/"
        },
        "id": "rW_Me_akxCdv",
        "outputId": "bdb6f027-e5b5-49b5-b01b-354b416b9e65"
      },
      "execution_count": 8,
      "outputs": [
        {
          "output_type": "stream",
          "name": "stdout",
          "text": [
            "Model: \"sequential\"\n",
            "_________________________________________________________________\n",
            " Layer (type)                Output Shape              Param #   \n",
            "=================================================================\n",
            " conv2d (Conv2D)             (None, 148, 148, 16)      448       \n",
            "                                                                 \n",
            " max_pooling2d (MaxPooling2D  (None, 74, 74, 16)       0         \n",
            " )                                                               \n",
            "                                                                 \n",
            " conv2d_1 (Conv2D)           (None, 72, 72, 32)        4640      \n",
            "                                                                 \n",
            " max_pooling2d_1 (MaxPooling  (None, 36, 36, 32)       0         \n",
            " 2D)                                                             \n",
            "                                                                 \n",
            " conv2d_2 (Conv2D)           (None, 34, 34, 64)        18496     \n",
            "                                                                 \n",
            " max_pooling2d_2 (MaxPooling  (None, 17, 17, 64)       0         \n",
            " 2D)                                                             \n",
            "                                                                 \n",
            " flatten (Flatten)           (None, 18496)             0         \n",
            "                                                                 \n",
            " dense (Dense)               (None, 512)               9470464   \n",
            "                                                                 \n",
            " dense_1 (Dense)             (None, 8)                 4104      \n",
            "                                                                 \n",
            "=================================================================\n",
            "Total params: 9,498,152\n",
            "Trainable params: 9,498,152\n",
            "Non-trainable params: 0\n",
            "_________________________________________________________________\n"
          ]
        }
      ]
    },
    {
      "cell_type": "code",
      "source": [
        "model.compile(loss='categorical_crossentropy',\n",
        "              optimizer=tf.optimizers.Adam(),\n",
        "              metrics=['accuracy'])"
      ],
      "metadata": {
        "id": "1iSJzCRgxEta"
      },
      "execution_count": 9,
      "outputs": []
    },
    {
      "cell_type": "code",
      "source": [
        "class myCallback(tf.keras.callbacks.Callback):\n",
        "  def on_epoch_end(self, epoch, logs={}):\n",
        "    if logs.get('accuracy') >= 0.95 and logs.get('val_accuracy') >= 0.95:\n",
        "      print('STOP')\n",
        "      self.model.stop_training = True\n",
        "\n",
        "callbacks = myCallback()"
      ],
      "metadata": {
        "id": "rP-9SscAxOz-"
      },
      "execution_count": 13,
      "outputs": []
    },
    {
      "cell_type": "code",
      "source": [
        "history=model.fit(\n",
        "      train_generator,\n",
        "      steps_per_epoch=20,  #berapa batch yang akan dieksekusi pada setiap epoch\n",
        "      epochs=100, #tambahkan epochs jika akurasi model belum optimal\n",
        "      validation_data=validation_generator, #menampilkan akurasi pengujian data validasi\n",
        "      validation_steps=4,  #berapa batch yang akan dieksekusi pada setiap epoch\n",
        "      verbose=2,\n",
        "      callbacks=[callbacks])"
      ],
      "metadata": {
        "colab": {
          "base_uri": "https://localhost:8080/"
        },
        "id": "enanGPVMxQYa",
        "outputId": "1f06c83e-ab0c-4280-917a-e09230686795"
      },
      "execution_count": 14,
      "outputs": [
        {
          "output_type": "stream",
          "name": "stdout",
          "text": [
            "Epoch 1/100\n",
            "20/20 - 76s - loss: 0.4819 - accuracy: 0.8359 - val_loss: 0.6225 - val_accuracy: 0.7578 - 76s/epoch - 4s/step\n",
            "Epoch 2/100\n",
            "20/20 - 71s - loss: 0.4623 - accuracy: 0.8313 - val_loss: 0.4081 - val_accuracy: 0.8438 - 71s/epoch - 4s/step\n",
            "Epoch 3/100\n",
            "20/20 - 66s - loss: 0.3607 - accuracy: 0.8656 - val_loss: 0.3095 - val_accuracy: 0.8750 - 66s/epoch - 3s/step\n",
            "Epoch 4/100\n",
            "20/20 - 61s - loss: 0.3759 - accuracy: 0.8781 - val_loss: 0.5568 - val_accuracy: 0.8047 - 61s/epoch - 3s/step\n",
            "Epoch 5/100\n",
            "20/20 - 60s - loss: 0.3323 - accuracy: 0.8797 - val_loss: 0.3845 - val_accuracy: 0.8672 - 60s/epoch - 3s/step\n",
            "Epoch 6/100\n",
            "20/20 - 55s - loss: 0.4093 - accuracy: 0.8453 - val_loss: 0.5450 - val_accuracy: 0.7812 - 55s/epoch - 3s/step\n",
            "Epoch 7/100\n",
            "20/20 - 55s - loss: 0.3637 - accuracy: 0.8672 - val_loss: 0.3191 - val_accuracy: 0.8750 - 55s/epoch - 3s/step\n",
            "Epoch 8/100\n",
            "20/20 - 50s - loss: 0.3759 - accuracy: 0.8531 - val_loss: 0.2731 - val_accuracy: 0.9062 - 50s/epoch - 3s/step\n",
            "Epoch 9/100\n",
            "20/20 - 51s - loss: 0.3416 - accuracy: 0.8641 - val_loss: 0.6018 - val_accuracy: 0.8047 - 51s/epoch - 3s/step\n",
            "Epoch 10/100\n",
            "20/20 - 42s - loss: 0.3588 - accuracy: 0.8797 - val_loss: 0.4899 - val_accuracy: 0.8281 - 42s/epoch - 2s/step\n",
            "Epoch 11/100\n",
            "20/20 - 48s - loss: 0.3790 - accuracy: 0.8687 - val_loss: 0.3199 - val_accuracy: 0.8828 - 48s/epoch - 2s/step\n",
            "Epoch 12/100\n",
            "20/20 - 42s - loss: 0.3253 - accuracy: 0.8797 - val_loss: 0.2551 - val_accuracy: 0.9141 - 42s/epoch - 2s/step\n",
            "Epoch 13/100\n",
            "20/20 - 39s - loss: 0.3624 - accuracy: 0.8562 - val_loss: 0.2808 - val_accuracy: 0.8984 - 39s/epoch - 2s/step\n",
            "Epoch 14/100\n",
            "20/20 - 39s - loss: 0.3857 - accuracy: 0.8578 - val_loss: 0.3110 - val_accuracy: 0.8906 - 39s/epoch - 2s/step\n",
            "Epoch 15/100\n",
            "20/20 - 41s - loss: 0.3535 - accuracy: 0.8828 - val_loss: 0.2569 - val_accuracy: 0.9062 - 41s/epoch - 2s/step\n",
            "Epoch 16/100\n",
            "20/20 - 39s - loss: 0.2984 - accuracy: 0.8859 - val_loss: 0.4360 - val_accuracy: 0.8203 - 39s/epoch - 2s/step\n",
            "Epoch 17/100\n",
            "20/20 - 36s - loss: 0.2736 - accuracy: 0.8938 - val_loss: 0.1929 - val_accuracy: 0.9297 - 36s/epoch - 2s/step\n",
            "Epoch 18/100\n",
            "20/20 - 39s - loss: 0.2089 - accuracy: 0.9266 - val_loss: 0.2795 - val_accuracy: 0.8984 - 39s/epoch - 2s/step\n",
            "Epoch 19/100\n",
            "20/20 - 33s - loss: 0.2642 - accuracy: 0.9156 - val_loss: 0.2493 - val_accuracy: 0.9219 - 33s/epoch - 2s/step\n",
            "Epoch 20/100\n",
            "20/20 - 30s - loss: 0.3010 - accuracy: 0.9047 - val_loss: 0.2992 - val_accuracy: 0.9062 - 30s/epoch - 1s/step\n",
            "Epoch 21/100\n",
            "20/20 - 33s - loss: 0.2696 - accuracy: 0.9031 - val_loss: 0.2196 - val_accuracy: 0.9219 - 33s/epoch - 2s/step\n",
            "Epoch 22/100\n",
            "20/20 - 33s - loss: 0.3239 - accuracy: 0.8719 - val_loss: 0.3076 - val_accuracy: 0.8906 - 33s/epoch - 2s/step\n",
            "Epoch 23/100\n",
            "20/20 - 35s - loss: 0.2951 - accuracy: 0.8875 - val_loss: 0.2283 - val_accuracy: 0.9219 - 35s/epoch - 2s/step\n",
            "Epoch 24/100\n",
            "20/20 - 30s - loss: 0.2796 - accuracy: 0.8938 - val_loss: 0.2680 - val_accuracy: 0.9062 - 30s/epoch - 2s/step\n",
            "Epoch 25/100\n",
            "20/20 - 29s - loss: 0.2194 - accuracy: 0.9203 - val_loss: 0.1672 - val_accuracy: 0.9453 - 29s/epoch - 1s/step\n",
            "Epoch 26/100\n",
            "20/20 - 31s - loss: 0.2270 - accuracy: 0.9172 - val_loss: 0.1839 - val_accuracy: 0.9375 - 31s/epoch - 2s/step\n",
            "Epoch 27/100\n",
            "20/20 - 30s - loss: 0.2037 - accuracy: 0.9391 - val_loss: 0.1799 - val_accuracy: 0.9375 - 30s/epoch - 2s/step\n",
            "Epoch 28/100\n",
            "20/20 - 28s - loss: 0.2558 - accuracy: 0.9094 - val_loss: 0.2920 - val_accuracy: 0.8906 - 28s/epoch - 1s/step\n",
            "Epoch 29/100\n",
            "20/20 - 29s - loss: 0.2294 - accuracy: 0.9172 - val_loss: 0.4005 - val_accuracy: 0.8750 - 29s/epoch - 1s/step\n",
            "Epoch 30/100\n",
            "20/20 - 28s - loss: 0.2606 - accuracy: 0.9000 - val_loss: 0.4029 - val_accuracy: 0.9062 - 28s/epoch - 1s/step\n",
            "Epoch 31/100\n",
            "20/20 - 29s - loss: 0.2391 - accuracy: 0.9109 - val_loss: 0.2172 - val_accuracy: 0.9062 - 29s/epoch - 1s/step\n",
            "Epoch 32/100\n",
            "20/20 - 27s - loss: 0.2206 - accuracy: 0.9187 - val_loss: 0.1182 - val_accuracy: 0.9609 - 27s/epoch - 1s/step\n",
            "Epoch 33/100\n",
            "20/20 - 26s - loss: 0.1719 - accuracy: 0.9344 - val_loss: 0.2070 - val_accuracy: 0.9062 - 26s/epoch - 1s/step\n",
            "Epoch 34/100\n",
            "20/20 - 25s - loss: 0.2355 - accuracy: 0.9078 - val_loss: 0.2910 - val_accuracy: 0.8984 - 25s/epoch - 1s/step\n",
            "Epoch 35/100\n",
            "20/20 - 25s - loss: 0.2013 - accuracy: 0.9215 - val_loss: 0.1056 - val_accuracy: 0.9766 - 25s/epoch - 1s/step\n",
            "Epoch 36/100\n",
            "20/20 - 25s - loss: 0.2440 - accuracy: 0.9156 - val_loss: 0.1896 - val_accuracy: 0.9062 - 25s/epoch - 1s/step\n",
            "Epoch 37/100\n",
            "20/20 - 24s - loss: 0.2194 - accuracy: 0.9219 - val_loss: 0.1558 - val_accuracy: 0.9531 - 24s/epoch - 1s/step\n",
            "Epoch 38/100\n",
            "20/20 - 25s - loss: 0.1820 - accuracy: 0.9312 - val_loss: 0.1707 - val_accuracy: 0.9297 - 25s/epoch - 1s/step\n",
            "Epoch 39/100\n",
            "20/20 - 23s - loss: 0.2135 - accuracy: 0.9250 - val_loss: 0.2642 - val_accuracy: 0.8984 - 23s/epoch - 1s/step\n",
            "Epoch 40/100\n",
            "20/20 - 24s - loss: 0.2013 - accuracy: 0.9266 - val_loss: 0.1847 - val_accuracy: 0.9297 - 24s/epoch - 1s/step\n",
            "Epoch 41/100\n",
            "20/20 - 24s - loss: 0.2693 - accuracy: 0.9078 - val_loss: 0.2169 - val_accuracy: 0.9375 - 24s/epoch - 1s/step\n",
            "Epoch 42/100\n",
            "20/20 - 25s - loss: 0.1869 - accuracy: 0.9297 - val_loss: 0.1614 - val_accuracy: 0.9297 - 25s/epoch - 1s/step\n",
            "Epoch 43/100\n",
            "20/20 - 25s - loss: 0.1676 - accuracy: 0.9359 - val_loss: 0.2362 - val_accuracy: 0.9141 - 25s/epoch - 1s/step\n",
            "Epoch 44/100\n",
            "20/20 - 24s - loss: 0.1917 - accuracy: 0.9391 - val_loss: 0.2781 - val_accuracy: 0.9141 - 24s/epoch - 1s/step\n",
            "Epoch 45/100\n",
            "20/20 - 27s - loss: 0.1657 - accuracy: 0.9391 - val_loss: 0.2321 - val_accuracy: 0.9297 - 27s/epoch - 1s/step\n",
            "Epoch 46/100\n",
            "20/20 - 23s - loss: 0.2136 - accuracy: 0.9125 - val_loss: 0.2024 - val_accuracy: 0.9219 - 23s/epoch - 1s/step\n",
            "Epoch 47/100\n",
            "20/20 - 24s - loss: 0.1984 - accuracy: 0.9203 - val_loss: 0.1807 - val_accuracy: 0.9141 - 24s/epoch - 1s/step\n",
            "Epoch 48/100\n",
            "20/20 - 23s - loss: 0.2263 - accuracy: 0.9078 - val_loss: 0.1562 - val_accuracy: 0.9453 - 23s/epoch - 1s/step\n",
            "Epoch 49/100\n",
            "20/20 - 24s - loss: 0.2188 - accuracy: 0.9203 - val_loss: 0.3394 - val_accuracy: 0.8828 - 24s/epoch - 1s/step\n",
            "Epoch 50/100\n",
            "20/20 - 28s - loss: 0.1943 - accuracy: 0.9359 - val_loss: 0.2426 - val_accuracy: 0.9531 - 28s/epoch - 1s/step\n",
            "Epoch 51/100\n",
            "20/20 - 23s - loss: 0.1918 - accuracy: 0.9359 - val_loss: 0.1267 - val_accuracy: 0.9609 - 23s/epoch - 1s/step\n",
            "Epoch 52/100\n",
            "20/20 - 22s - loss: 0.1445 - accuracy: 0.9453 - val_loss: 0.1104 - val_accuracy: 0.9531 - 22s/epoch - 1s/step\n",
            "Epoch 53/100\n",
            "20/20 - 23s - loss: 0.1752 - accuracy: 0.9281 - val_loss: 0.1513 - val_accuracy: 0.9297 - 23s/epoch - 1s/step\n",
            "Epoch 54/100\n",
            "20/20 - 22s - loss: 0.1544 - accuracy: 0.9438 - val_loss: 0.2611 - val_accuracy: 0.8984 - 22s/epoch - 1s/step\n",
            "Epoch 55/100\n",
            "20/20 - 23s - loss: 0.2122 - accuracy: 0.9109 - val_loss: 0.1375 - val_accuracy: 0.9453 - 23s/epoch - 1s/step\n",
            "Epoch 56/100\n",
            "20/20 - 22s - loss: 0.2310 - accuracy: 0.9156 - val_loss: 0.1416 - val_accuracy: 0.9453 - 22s/epoch - 1s/step\n",
            "Epoch 57/100\n",
            "20/20 - 23s - loss: 0.1658 - accuracy: 0.9453 - val_loss: 0.2165 - val_accuracy: 0.9297 - 23s/epoch - 1s/step\n",
            "Epoch 58/100\n",
            "20/20 - 23s - loss: 0.1480 - accuracy: 0.9406 - val_loss: 0.1264 - val_accuracy: 0.9531 - 23s/epoch - 1s/step\n",
            "Epoch 59/100\n",
            "20/20 - 23s - loss: 0.1497 - accuracy: 0.9422 - val_loss: 0.1203 - val_accuracy: 0.9609 - 23s/epoch - 1s/step\n",
            "Epoch 60/100\n",
            "20/20 - 22s - loss: 0.1786 - accuracy: 0.9312 - val_loss: 0.1620 - val_accuracy: 0.9219 - 22s/epoch - 1s/step\n",
            "Epoch 61/100\n",
            "20/20 - 23s - loss: 0.1389 - accuracy: 0.9438 - val_loss: 0.2621 - val_accuracy: 0.9219 - 23s/epoch - 1s/step\n",
            "Epoch 62/100\n",
            "20/20 - 22s - loss: 0.2211 - accuracy: 0.9094 - val_loss: 0.1060 - val_accuracy: 0.9688 - 22s/epoch - 1s/step\n",
            "Epoch 63/100\n",
            "20/20 - 25s - loss: 0.2004 - accuracy: 0.9359 - val_loss: 0.2015 - val_accuracy: 0.9297 - 25s/epoch - 1s/step\n",
            "Epoch 64/100\n",
            "20/20 - 23s - loss: 0.1802 - accuracy: 0.9328 - val_loss: 0.2233 - val_accuracy: 0.9297 - 23s/epoch - 1s/step\n",
            "Epoch 65/100\n",
            "20/20 - 23s - loss: 0.2142 - accuracy: 0.9234 - val_loss: 0.1770 - val_accuracy: 0.9375 - 23s/epoch - 1s/step\n",
            "Epoch 66/100\n",
            "20/20 - 23s - loss: 0.2138 - accuracy: 0.9187 - val_loss: 0.1550 - val_accuracy: 0.9297 - 23s/epoch - 1s/step\n",
            "Epoch 67/100\n",
            "20/20 - 22s - loss: 0.1732 - accuracy: 0.9297 - val_loss: 0.1924 - val_accuracy: 0.9375 - 22s/epoch - 1s/step\n",
            "Epoch 68/100\n",
            "20/20 - 22s - loss: 0.1860 - accuracy: 0.9391 - val_loss: 0.2052 - val_accuracy: 0.9219 - 22s/epoch - 1s/step\n",
            "Epoch 69/100\n",
            "STOP\n",
            "20/20 - 24s - loss: 0.1193 - accuracy: 0.9516 - val_loss: 0.0643 - val_accuracy: 0.9688 - 24s/epoch - 1s/step\n"
          ]
        }
      ]
    },
    {
      "cell_type": "code",
      "source": [
        "import matplotlib.pyplot as plt    \n",
        "\n",
        "acc = history.history['accuracy']                                                \n",
        "val_acc = history.history['val_accuracy']                                         \n",
        "loss = history.history['loss']                                                    \n",
        "val_loss = history.history['val_loss']                                            \n",
        "\n",
        "epochs = range(len(acc))                                                          \n",
        "\n",
        "plt.plot(epochs, acc, 'r', label='Accuracy')                                                 \n",
        "plt.plot(epochs, val_acc, 'b', label='Val_accuracy')                          \n",
        "plt.title('Accuracy & Val_accuracy')                                        \n",
        "plt.legend(loc=0)                                                                 \n",
        "plt.figure()                                                                      \n",
        "plt.show()\n",
        "\n",
        "plt.plot(epochs, loss, 'r', label='Training loss')\n",
        "plt.plot(epochs, val_loss, 'b', label='Val_loss')\n",
        "plt.title('Loss & Val_Loss')\n",
        "plt.legend(loc=0)\n",
        "plt.figure()\n",
        "plt.show()\n"
      ],
      "metadata": {
        "colab": {
          "base_uri": "https://localhost:8080/",
          "height": 580
        },
        "id": "pK5E_B0nOT5K",
        "outputId": "8f0ad996-5cb8-4e7c-8954-7e03ae31511d"
      },
      "execution_count": 17,
      "outputs": [
        {
          "output_type": "display_data",
          "data": {
            "text/plain": [
              "<Figure size 432x288 with 1 Axes>"
            ],
            "image/png": "[encoded data removed]"
          },
          "metadata": {
            "needs_background": "light"
          }
        },
        {
          "output_type": "display_data",
          "data": {
            "text/plain": [
              "<Figure size 432x288 with 0 Axes>"
            ]
          },
          "metadata": {}
        },
        {
          "output_type": "display_data",
          "data": {
            "text/plain": [
              "<Figure size 432x288 with 1 Axes>"
            ],
            "image/png": "[encoded data removed]"
          },
          "metadata": {
            "needs_background": "light"
          }
        },
        {
          "output_type": "display_data",
          "data": {
            "text/plain": [
              "<Figure size 432x288 with 0 Axes>"
            ]
          },
          "metadata": {}
        }
      ]
    },
    {
      "cell_type": "code",
      "source": [
        "print(train_generator.class_indices)"
      ],
      "metadata": {
        "colab": {
          "base_uri": "https://localhost:8080/"
        },
        "id": "GjZXKtmAOyyS",
        "outputId": "e6dea976-d1d3-4dd5-fad0-3b4ba082344c"
      },
      "execution_count": 18,
      "outputs": [
        {
          "output_type": "stream",
          "name": "stdout",
          "text": [
            "{'freshapples': 0, 'freshbanana': 1, 'freshlemon': 2, 'freshoranges': 3, 'rottenapples': 4, 'rottenbanana': 5, 'rottenlemon': 6, 'rottenoranges': 7}\n"
          ]
        }
      ]
    }
  ]
}